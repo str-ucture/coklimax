{
 "cells": [
  {
   "cell_type": "markdown",
   "metadata": {},
   "source": [
    "# SentinelHub Downloader:\n",
    "\n",
    "Library: [Sentinelhub](https://sentinelhub-py.readthedocs.io/en/latest/index.html)\n",
    "\n",
    "This notebook provides a script for downloading datasets from SentHub, a platform used for managing various datasets.\n",
    "\n",
    "In this notebook, we explore how to access and download satellite imagery from **Sentinel Hub** using its powerful [API](https://dataspace.copernicus.eu/analyse/apis). By leveraging Sentinel Hub’s capabilities, we can retrieve data from these missions and process it to meet specific analysis requirements, making it a useful tool for environmental monitoring, geospatial analysis, and research applications."
   ]
  },
  {
   "cell_type": "code",
   "execution_count": null,
   "metadata": {},
   "outputs": [],
   "source": [
    "%reload_ext autoreload\n",
    "%autoreload 2\n",
    "%matplotlib inline"
   ]
  },
  {
   "cell_type": "markdown",
   "metadata": {},
   "source": [
    "## Import Necessary Libraries"
   ]
  },
  {
   "cell_type": "code",
   "execution_count": null,
   "metadata": {},
   "outputs": [],
   "source": [
    "from sentinelhub import (\n",
    "    SHConfig,\n",
    "    DataCollection,\n",
    "    SentinelHubCatalog,\n",
    "    SentinelHubRequest,\n",
    "    SentinelHubStatistical,\n",
    "    BBox,\n",
    "    bbox_to_dimensions,\n",
    "    CRS,\n",
    "    MimeType,\n",
    "    Geometry,\n",
    "    MosaickingOrder,\n",
    ")\n",
    "\n",
    "import datetime\n",
    "import os\n",
    "import matplotlib.pyplot as plt\n",
    "import numpy as np\n",
    "import pandas as pd\n",
    "import ipywidgets as widgets\n",
    "\n",
    "import rasterio\n",
    "from rasterio.transform import from_bounds\n",
    "import leafmap\n",
    "\n",
    "from itables import init_notebook_mode\n",
    "init_notebook_mode(all_interactive=True)"
   ]
  },
  {
   "cell_type": "markdown",
   "metadata": {},
   "source": [
    "## Manage Working Directories"
   ]
  },
  {
   "cell_type": "code",
   "execution_count": null,
   "metadata": {},
   "outputs": [],
   "source": [
    "# The directories (if doesn't exist) will be created in the Data folder\n",
    "download_folder = r\".\\data\\sentinelhub\\download\"\n",
    "\n",
    "if not os.path.exists(download_folder):\n",
    "    os.makedirs(download_folder)"
   ]
  },
  {
   "cell_type": "markdown",
   "metadata": {},
   "source": [
    "### API and Authentication\n"
   ]
  },
  {
   "cell_type": "code",
   "execution_count": null,
   "metadata": {},
   "outputs": [],
   "source": [
    "# # Only run this cell if you have not created a configuration.\n",
    "# config = SHConfig()\n",
    "# config.sh_client_id = '**-********-****-****-****-************'\n",
    "# config.sh_client_secret = '********************************'\n",
    "\n",
    "# config.sh_base_url = 'https://sh.dataspace.copernicus.eu'\n",
    "# config.sh_token_url = 'https://identity.dataspace.copernicus.eu/auth/realms/CDSE/protocol/openid-connect/token'\n",
    "\n",
    "# config.save(\"cdse\")"
   ]
  },
  {
   "cell_type": "code",
   "execution_count": null,
   "metadata": {},
   "outputs": [],
   "source": [
    "config = SHConfig(\"cdse\")"
   ]
  },
  {
   "cell_type": "markdown",
   "metadata": {},
   "source": [
    "## Define parameters for download"
   ]
  },
  {
   "cell_type": "code",
   "execution_count": null,
   "metadata": {},
   "outputs": [],
   "source": [
    "# Define the bounding box extents in CRS: WGS84 in this format [lon_min, lat_min, lon_max, lat_max]\n",
    "\n",
    "bbox_wgs84 = [9.1170, 47.6330, 9.2180, 47.7160] # Bounding box for Konstanz, Germany\n",
    "resolution = 10 # Primary bands of Sentilen2 have spatial resolution of 10m\n",
    "# Read more at https://docs.sentinel-hub.com/api/latest/data/sentinel-2-l1c/\n",
    "\n",
    "aoi_bbox = BBox(bbox=bbox_wgs84, crs=CRS.WGS84)\n",
    "aoi_size = bbox_to_dimensions(aoi_bbox, resolution=resolution)"
   ]
  },
  {
   "cell_type": "code",
   "execution_count": null,
   "metadata": {},
   "outputs": [],
   "source": [
    "initial_date = widgets.DatePicker(description=\"Select initial date: \",\n",
    "                                  style=dict(description_width='initial'),\n",
    "                                  disabled=False,\n",
    "                                  value=datetime.date(2024,1,1))\n",
    "initial_date"
   ]
  },
  {
   "cell_type": "code",
   "execution_count": null,
   "metadata": {},
   "outputs": [],
   "source": [
    "final_date = widgets.DatePicker(description=\"Select final date: \",\n",
    "                                style=dict(description_width='initial'),\n",
    "                                disabled=False,\n",
    "                                value=datetime.date.today())\n",
    "final_date"
   ]
  },
  {
   "cell_type": "code",
   "execution_count": null,
   "metadata": {},
   "outputs": [],
   "source": [
    "time_interval = (str(initial_date.value), str(final_date.value))"
   ]
  },
  {
   "cell_type": "markdown",
   "metadata": {},
   "source": [
    "## Retrieve available dataset from SHcatalog"
   ]
  },
  {
   "cell_type": "code",
   "execution_count": null,
   "metadata": {},
   "outputs": [],
   "source": [
    "catalog = SentinelHubCatalog(config=config)\n",
    "\n",
    "search_iterator = catalog.search(\n",
    "    DataCollection.SENTINEL2_L2A,\n",
    "    bbox=aoi_bbox,\n",
    "    time=time_interval,\n",
    "    filter=f\"eo:cloud_cover <= {20}\",\n",
    "    fields={\"include\": [\"id\",\n",
    "                        \"properties.datetime\",\n",
    "                        \"properties.eo:cloud_cover\",\n",
    "                        \"properties.platform\",\n",
    "                        ],\n",
    "            \"exclude\": []},\n",
    ")\n",
    "\n",
    "results = list(search_iterator)\n",
    "print(\"Total number of results:\", len(results))\n",
    "\n",
    "data = []\n",
    "for entry in results:\n",
    "    id = entry['id']\n",
    "    dt = entry['properties']['datetime']\n",
    "    date, time = dt.split('T')\n",
    "    time = time.replace('Z', '')\n",
    "    cloud_cover = entry['properties']['eo:cloud_cover']\n",
    "    data.append({#'Id':id,\n",
    "                 'Date':date, \n",
    "                 'Time':time,\n",
    "                 'Cloud Cover (%)':cloud_cover})\n",
    "\n",
    "df = pd.DataFrame(data)\n",
    "df"
   ]
  },
  {
   "cell_type": "markdown",
   "metadata": {},
   "source": [
    "## Define Evaluation scripts for access and download"
   ]
  },
  {
   "cell_type": "code",
   "execution_count": null,
   "metadata": {},
   "outputs": [],
   "source": [
    "evalscript_sentinel2_all_bands = \"\"\"\n",
    "    //VERSION=3\n",
    "    function setup() {\n",
    "        return {\n",
    "            input: [{\n",
    "                bands: [\"B01\",\"B02\",\"B03\",\"B04\",\"B05\",\"B06\",\"B07\",\"B08\",\"B8A\",\"B09\",\"B10\",\"B11\",\"B12\"],\n",
    "                units: \"DN\"\n",
    "            }],\n",
    "            output: {\n",
    "                bands: 13,\n",
    "                sampleType: \"INT16\"\n",
    "            }\n",
    "        };\n",
    "    }\n",
    "    function evaluatePixel(sample) {\n",
    "        return [sample.B01,\n",
    "                sample.B02,\n",
    "                sample.B03,\n",
    "                sample.B04,\n",
    "                sample.B05,\n",
    "                sample.B06,\n",
    "                sample.B07,\n",
    "                sample.B08,\n",
    "                sample.B8A,\n",
    "                sample.B09,\n",
    "                sample.B10,\n",
    "                sample.B11,\n",
    "                sample.B12];\n",
    "    }\n",
    "\"\"\""
   ]
  },
  {
   "cell_type": "code",
   "execution_count": null,
   "metadata": {},
   "outputs": [],
   "source": [
    "# Request data with least CC\n",
    "\n",
    "request_all_bands = SentinelHubRequest(\n",
    "    data_folder = download_folder,\n",
    "    evalscript=evalscript_sentinel2_all_bands,\n",
    "    input_data=[\n",
    "        SentinelHubRequest.input_data(\n",
    "            data_collection=DataCollection.SENTINEL2_L1C.define_from(\n",
    "                \"s2l1c\", service_url=config.sh_base_url\n",
    "            ),\n",
    "            time_interval=time_interval,\n",
    "            # Mosiac of least cloudy acquisitions\n",
    "            mosaicking_order=MosaickingOrder.LEAST_CC,\n",
    "        )\n",
    "    ],\n",
    "    responses=[SentinelHubRequest.output_response(\"default\", MimeType.TIFF)],\n",
    "    bbox=aoi_bbox,\n",
    "    size=aoi_size,\n",
    "    config=config,\n",
    ")\n",
    "\n",
    "all_bands_response = request_all_bands.get_data(save_data=False)"
   ]
  },
  {
   "cell_type": "code",
   "execution_count": null,
   "metadata": {},
   "outputs": [],
   "source": [
    "# Request data using the table \"df\"\n",
    "request_all_bands = SentinelHubRequest(\n",
    "    data_folder=download_folder,\n",
    "    evalscript=evalscript_sentinel2_all_bands,\n",
    "    input_data=[\n",
    "        SentinelHubRequest.input_data(\n",
    "            data_collection=DataCollection.SENTINEL2_L1C.define_from(\n",
    "                \"s2l1c\", service_url=config.sh_base_url\n",
    "            ),\n",
    "            time_interval='2024-08-23',\n",
    "        )\n",
    "    ],\n",
    "    responses=[SentinelHubRequest.output_response(\"default\", MimeType.TIFF)],\n",
    "    bbox=aoi_bbox,\n",
    "    size=aoi_size,\n",
    "    config=config,\n",
    ")\n",
    "\n",
    "# Get the data\n",
    "all_bands_response = request_all_bands.get_data(save_data=False)"
   ]
  },
  {
   "cell_type": "markdown",
   "metadata": {},
   "source": [
    "### Plot true color raster"
   ]
  },
  {
   "cell_type": "code",
   "execution_count": null,
   "metadata": {},
   "outputs": [],
   "source": [
    "from typing import Any, Optional, Tuple\n",
    "\n",
    "def plot_image(\n",
    "    image: np.ndarray,\n",
    "    factor: float = 1.0,\n",
    "    clip_range: Optional[Tuple[float, float]] = None,\n",
    "    figsize: Tuple[float, float] = (15, 15),\n",
    "    **kwargs: Any\n",
    ") -> None:\n",
    "    \"\"\"Utility function for plotting RGB images.\"\"\"\n",
    "    fig, ax = plt.subplots(figsize=figsize)\n",
    "    if clip_range is not None:\n",
    "        ax.imshow(np.clip(image * factor, *clip_range), **kwargs)\n",
    "    else:\n",
    "        ax.imshow(image * factor, **kwargs)\n",
    "    ax.set_xticks([])\n",
    "    ax.set_yticks([])"
   ]
  },
  {
   "cell_type": "code",
   "execution_count": null,
   "metadata": {},
   "outputs": [],
   "source": [
    "image = all_bands_response[0]\n",
    "min_val = np.percentile(image, 2)  # 2nd percentile\n",
    "max_val = np.percentile(image, 98)  # 98th percentile\n",
    "factor = 1.0 / max_val\n",
    "factor_multiplier = 1.4\n",
    "print(min_val, max_val)\n",
    "\n",
    "plot_image(\n",
    "    image[:, :, [3, 2, 1]],\n",
    "    factor=factor*factor_multiplier,\n",
    "    clip_range=(0, 1),\n",
    "    figsize=(15, 15)\n",
    ")"
   ]
  },
  {
   "cell_type": "markdown",
   "metadata": {},
   "source": [
    "### Plot using leafmap"
   ]
  },
  {
   "cell_type": "code",
   "execution_count": null,
   "metadata": {},
   "outputs": [],
   "source": [
    "height, width, bands = image.shape\n",
    "transform = from_bounds(*bbox_wgs84, width=width, height=height)\n",
    "\n",
    "rgb_image = image[:, :, [3, 2, 1]]\n",
    "clipped_image = np.clip(rgb_image * factor * factor_multiplier, 0, 1)\n",
    "uint8_image = (clipped_image * 255).astype(np.uint8)\n",
    "\n",
    "i = 0\n",
    "temp_filename = f\"temp_tif_{i:03}.nc\"\n",
    "temp_tif = os.path.join(download_folder, \"temp.tif\")\n",
    "\n",
    "while os.path.isfile(temp_tif):\n",
    "    i += 1\n",
    "    temp_filename = f\"temp_tif_{i:03}.nc\"\n",
    "    temp_tif = os.path.join(download_folder, f\"temp_tif_{i:03}.tif\")\n",
    "\n",
    "with rasterio.open(\n",
    "    temp_tif,\n",
    "    \"w\",\n",
    "    driver=\"GTiff\",\n",
    "    height=height,\n",
    "    width=width,\n",
    "    count=3,  # Only 3 bands for RGB\n",
    "    dtype=image.dtype,\n",
    "    crs=\"EPSG:4326\",  # WGS84 coordinate reference system\n",
    "    transform=transform,\n",
    ") as dst:\n",
    "    for i in range(3):  # Loop through the RGB bands\n",
    "        dst.write(uint8_image[:, :, i], i + 1)"
   ]
  },
  {
   "cell_type": "code",
   "execution_count": null,
   "metadata": {},
   "outputs": [],
   "source": [
    "m = leafmap.Map(center=[(bbox_wgs84[1] + bbox_wgs84[3]) / 2, (bbox_wgs84[0] + bbox_wgs84[2]) / 2], zoom=14)\n",
    "m.add_raster(\n",
    "    temp_tif,\n",
    "    bands=[1,2,3],\n",
    ")\n",
    "m"
   ]
  },
  {
   "cell_type": "markdown",
   "metadata": {},
   "source": [
    "### Plot false color"
   ]
  },
  {
   "cell_type": "code",
   "execution_count": null,
   "metadata": {},
   "outputs": [],
   "source": [
    "plot_image(\n",
    "    image[:, :, [2, 3, 7]],\n",
    "    factor=factor*factor_multiplier,\n",
    "    clip_range=(0, 1),\n",
    "    figsize=(8, 8)\n",
    ")"
   ]
  },
  {
   "cell_type": "markdown",
   "metadata": {},
   "source": [
    "### Plot NDVI"
   ]
  },
  {
   "cell_type": "code",
   "execution_count": null,
   "metadata": {},
   "outputs": [],
   "source": [
    "# Extract the NIR (Band 8) and Red (Band 4) bands\n",
    "nir = all_bands_response[0][:, :, 7]\n",
    "red = all_bands_response[0][:, :, 3]\n",
    "\n",
    "# Compute NDVI (Add a small number to denominator to avoid division by zero)\n",
    "ndvi = (nir - red) / (nir + red + 1e-10) \n",
    "\n",
    "# Plot NDVI\n",
    "plt.figure(figsize=(8, 8))\n",
    "cmap = plt.get_cmap('RdYlGn',8)\n",
    "plt.imshow(ndvi, cmap=cmap, vmin=-1, vmax=1)\n",
    "plt.colorbar(label='NDVI')\n",
    "plt.title('NDVI')\n",
    "plt.axis('off')\n",
    "plt.show()\n"
   ]
  }
 ],
 "metadata": {
  "kernelspec": {
   "display_name": "venv",
   "language": "python",
   "name": "python3"
  },
  "language_info": {
   "codemirror_mode": {
    "name": "ipython",
    "version": 3
   },
   "file_extension": ".py",
   "mimetype": "text/x-python",
   "name": "python",
   "nbconvert_exporter": "python",
   "pygments_lexer": "ipython3",
   "version": "3.10.0"
  }
 },
 "nbformat": 4,
 "nbformat_minor": 2
}
