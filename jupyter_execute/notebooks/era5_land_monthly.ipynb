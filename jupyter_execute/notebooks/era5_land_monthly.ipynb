{
 "cells": [
  {
   "cell_type": "markdown",
   "metadata": {},
   "source": [
    "# ERA5-Land Monthly Averaged\n",
    "\n",
    "ERA5-Land is a high-resolution reanalysis dataset that provides a consistent and detailed view of land variables over several decades, combining model data with atmospheric forcing from ERA5 to ensure accuracy. By correcting input variables for altitude differences and leveraging indirect observational influences, it offers enhanced precision for land surface applications like flood and drought forecasting. Despite some inherent uncertainties, ERA5-Land's extensive temporal and spatial resolution makes it a valuable resource for decision-making and environmental analysis.\n",
    "\n",
    "* [ERA5-Land Monthly Averaged](https://cds.climate.copernicus.eu/datasets/reanalysis-era5-land-monthly-means?tab=overview)\n",
    "* [Documentation](https://confluence.ecmwf.int/display/CKB/ERA5-Land%3A+data+documentation)"
   ]
  },
  {
   "cell_type": "markdown",
   "metadata": {},
   "source": [
    "## Import Necessary Libraries"
   ]
  },
  {
   "cell_type": "code",
   "execution_count": 1,
   "metadata": {},
   "outputs": [],
   "source": [
    "import os\n",
    "import ipywidgets as widgets\n",
    "from datetime import datetime\n",
    "\n",
    "from cds_client_util import initialize_cds_client"
   ]
  },
  {
   "cell_type": "markdown",
   "metadata": {},
   "source": [
    "## Manage Working Directories"
   ]
  },
  {
   "cell_type": "code",
   "execution_count": 2,
   "metadata": {},
   "outputs": [],
   "source": [
    "# The directories (if doesn't exist) will be created in the Data folder\n",
    "download_folder = r\".\\data\\era5-land-monthly-means\\download\"\n",
    "working_folder = r\".\\data\\era5-land-monthly-means\\working\"\n",
    "output_folder = r\".\\data\\era5-land-monthly-means\\output\"\n",
    "\n",
    "if not os.path.exists(working_folder):\n",
    "    os.makedirs(working_folder)\n",
    "if not os.path.exists(output_folder):\n",
    "    os.makedirs(output_folder)\n",
    "if not os.path.exists(download_folder):\n",
    "    os.makedirs(download_folder)"
   ]
  },
  {
   "cell_type": "markdown",
   "metadata": {},
   "source": [
    "## CDS API key and authentication"
   ]
  },
  {
   "cell_type": "code",
   "execution_count": 3,
   "metadata": {},
   "outputs": [
    {
     "name": "stderr",
     "output_type": "stream",
     "text": [
      "2024-11-25 15:39:01,736 INFO [2024-09-28T00:00:00] **Welcome to the New Climate Data Store (CDS)!** This new system is in its early days of full operations and still undergoing enhancements and fine tuning. Some disruptions are to be expected. Your \n",
      "[feedback](https://jira.ecmwf.int/plugins/servlet/desk/portal/1/create/202) is key to improve the user experience on the new CDS for the benefit of everyone. Thank you.\n"
     ]
    },
    {
     "name": "stderr",
     "output_type": "stream",
     "text": [
      "2024-11-25 15:39:01,739 INFO [2024-09-26T00:00:00] Watch our [Forum](https://forum.ecmwf.int/) for Announcements, news and other discussed topics.\n"
     ]
    },
    {
     "name": "stderr",
     "output_type": "stream",
     "text": [
      "2024-11-25 15:39:01,740 INFO [2024-09-16T00:00:00] Remember that you need to have an ECMWF account to use the new CDS. **Your old CDS credentials will not work in new CDS!**\n"
     ]
    },
    {
     "name": "stderr",
     "output_type": "stream",
     "text": [
      "2024-11-25 15:39:01,741 WARNING [2024-06-16T00:00:00] CDS API syntax is changed and some keys or parameter names may have also changed. To avoid requests failing, please use the \"Show API request code\" tool on the dataset Download Form to check you are using the correct syntax for your API request.\n"
     ]
    },
    {
     "name": "stdout",
     "output_type": "stream",
     "text": [
      "CDS API Client initialized successfully!\n"
     ]
    }
   ],
   "source": [
    "# Use the function to initialize the client\n",
    "try:\n",
    "    client = initialize_cds_client(\"../secrets/.cdsapirc\")\n",
    "    print(\"CDS API Client initialized successfully!\")\n",
    "except (FileNotFoundError, ValueError) as e:\n",
    "    print(f\"Error: {e}\")"
   ]
  },
  {
   "cell_type": "code",
   "execution_count": 4,
   "metadata": {},
   "outputs": [],
   "source": [
    "# Alternative: Enter your CDS API key directly\n",
    "# ------------------------------------------------------\n",
    "# If you have not created the \".cdsapirc\" file or prefer not to use it, \n",
    "# you can manually input your CDS API key in this notebook cell.\n",
    "# This approach is helpful for quick testing or one-off uses but is not recommended \n",
    "# for long-term or automated workflows as it requires manual input and may expose your key.\n",
    "# ------------------------------------------------------\n",
    "\n",
    "# import getpass\n",
    "\n",
    "# api_key = getpass.getpass(\"Enter your CDS API Key:\")\n",
    "# api_url = \"https://cds.climate.copernicus.eu/api\"\n",
    "# client = cdsapi.Client(url=api_url, key=api_key)"
   ]
  },
  {
   "cell_type": "markdown",
   "metadata": {},
   "source": [
    "## Create list of variables\n",
    "\n",
    "The list of variables are available at [ERA5-Land Monthly Averaged](https://cds.climate.copernicus.eu/datasets/reanalysis-era5-land-monthly-means?tab=overview)\n",
    "\n",
    "*Please check and modify the predefined variable name if any issue arises with variable name.* "
   ]
  },
  {
   "cell_type": "code",
   "execution_count": 5,
   "metadata": {},
   "outputs": [],
   "source": [
    "# Variable Groups\n",
    "var_group_temperature = [\n",
    "    \"2m_dewpoint_temperature\",\n",
    "    \"2m_temperature\",\n",
    "    \"skin_temperature\",\n",
    "    \"soil_temperature_level_1\",\n",
    "    \"soil_temperature_level_2\",\n",
    "    \"soil_temperature_level_3\",\n",
    "    \"soil_temperature_level_4\"]\n",
    "\n",
    "var_group_lake = [\n",
    "    \"lake_bottom_temperature\",\n",
    "    \"lake_ice_depth\",\n",
    "    \"lake_ice_temperature\",\n",
    "    \"lake_mix_layer_depth\",\n",
    "    \"lake_mix_layer_temperature\",\n",
    "    \"lake_shape_factor\",\n",
    "    \"lake_total_layer_temperature\"]\n",
    "\n",
    "var_group_snow = [\n",
    "    \"snow_albedo\",\n",
    "    \"snow_cover\",\n",
    "    \"snow_density\",\n",
    "    \"snow_depth\",\n",
    "    \"snow_depth_water_equivalent\",\n",
    "    \"snowfall\",\n",
    "    \"snowmelt\",\n",
    "    \"temperature_of_snow_layer\"]\n",
    "\n",
    "var_group_soil_water = [\n",
    "    \"skin_reservoir_content\",\n",
    "    \"volumetric_soil_water_layer_1\",\n",
    "    \"volumetric_soil_water_layer_2\",\n",
    "    \"volumetric_soil_water_layer_3\",\n",
    "    \"volumetric_soil_water_layer_4\"]\n",
    "\n",
    "var_group_radiation_and_heat = [\n",
    "    \"forecast_albedo\",\n",
    "    \"surface_latent_heat_flux\",\n",
    "    \"surface_net_solar_radiation\",\n",
    "    \"surface_net_thermal_radiation\",\n",
    "    \"surface_sensible_heat_flux\",\n",
    "    \"surface_solar_radiation_downwards\",\n",
    "    \"surface_thermal_radiation_downwards\"]\n",
    "\n",
    "var_group_evaporation_and_runoff = [\n",
    "    \"evaporation_from_bare_soil\",\n",
    "    \"evaporation_from_open_water_surfaces_excluding_oceans\",\n",
    "    \"evaporation_from_the_top_of_canopy\",\n",
    "    \"evaporation_from_vegetation_transpiration\",\n",
    "    \"potential_evaporation\",\n",
    "    \"runoff\",\n",
    "    \"snow_evaporation\",\n",
    "    \"sub_surface_runoff\",\n",
    "    \"surface_runoff\",\n",
    "    \"total_evaporation\"]\n",
    "\n",
    "var_group_wind_pressure_and_precipitation = [\n",
    "    \"10m_u_component_of_wind\",\n",
    "    \"10m_v_component_of_wind\",\n",
    "    \"surface_pressure\",\n",
    "    \"total_precipitation\"]\n",
    "\n",
    "var_group_vegetation = [\n",
    "    \"leaf_area_index_high_vegetation\",\n",
    "    \"leaf_area_index_low_vegetation\"]\n",
    "\n",
    "# List of variable group\n",
    "var_group_list = ['var_group_temperature',\n",
    "                  'var_group_lake',\n",
    "                  'var_group_snow',\n",
    "                  'var_group_soil_water',\n",
    "                  'var_group_radiation_and_heat',\n",
    "                  'var_group_evaporation_and_runoff',\n",
    "                  'var_group_wind_pressure_and_precipitation',\n",
    "                  'var_group_vegetation']"
   ]
  },
  {
   "cell_type": "markdown",
   "metadata": {},
   "source": [
    "## Define request parameters for download"
   ]
  },
  {
   "cell_type": "code",
   "execution_count": 6,
   "metadata": {},
   "outputs": [
    {
     "data": {
      "application/vnd.jupyter.widget-view+json": {
       "model_id": "b3cda69052574ae3bcb83cd7b63c60bb",
       "version_major": 2,
       "version_minor": 0
      },
      "text/plain": [
       "Dropdown(description='Select the variable group', layout=Layout(width='50%'), options=('var_group_temperature'…"
      ]
     },
     "execution_count": 6,
     "metadata": {},
     "output_type": "execute_result"
    }
   ],
   "source": [
    "selected_variable_group = widgets.Dropdown(\n",
    "    options=var_group_list,\n",
    "    value=var_group_list[0],\n",
    "    description=\"Select the variable group\",\n",
    "    style=dict(description_width='initial'),\n",
    "    layout=widgets.Layout(width='50%'),\n",
    ")\n",
    "\n",
    "selected_variable_group"
   ]
  },
  {
   "cell_type": "code",
   "execution_count": 7,
   "metadata": {},
   "outputs": [
    {
     "data": {
      "application/vnd.jupyter.widget-view+json": {
       "model_id": "2543d1aa2d62426c998f9eb8c212a638",
       "version_major": 2,
       "version_minor": 0
      },
      "text/plain": [
       "Dropdown(description='Select the variable of interest', index=1, layout=Layout(width='50%'), options=('2m_dewp…"
      ]
     },
     "execution_count": 7,
     "metadata": {},
     "output_type": "execute_result"
    }
   ],
   "source": [
    "current_variable_group = globals().get(selected_variable_group.value)\n",
    "\n",
    "selected_variable = widgets.Dropdown(\n",
    "    options=current_variable_group,\n",
    "    value=current_variable_group[1],\n",
    "    description=\"Select the variable of interest\",\n",
    "    style=dict(description_width='initial'),\n",
    "    layout=widgets.Layout(width='50%'),\n",
    ")\n",
    "\n",
    "selected_variable"
   ]
  },
  {
   "cell_type": "markdown",
   "metadata": {},
   "source": [
    "### Define Bounding Box Extents (Bbox) for the Dataset\n",
    "\n",
    "- Modify the code below to manually set the desired bounding box values, or\n",
    "- Use the interactive bounding box tool by visiting this [Bbox-extractor](https://str-ucture.github.io/bbox-extractor/), which allows you to easily generate and visualize the bounding box coordinates for your dataset."
   ]
  },
  {
   "cell_type": "code",
   "execution_count": 8,
   "metadata": {},
   "outputs": [],
   "source": [
    "# Define the bounding box extents in CRS: WGS84 in this format [lat_max, lon_min, lat_min, lon_max]\n",
    "# Recommended precision is 0.1 because Horizontal resolution: 0.1° x 0.1°; Native resolution is 9 km.\n",
    "\n",
    "bbox_wgs84_deutschland = [56.0, 5.8, 47.2, 15.0] # Bouding box for Germany\n",
    "bbox_wgs84_konstanz = [47.8, 9, 47.6, 9.3] # Bounding box for Konstanz, Germany"
   ]
  },
  {
   "cell_type": "code",
   "execution_count": 9,
   "metadata": {},
   "outputs": [
    {
     "data": {
      "application/vnd.jupyter.widget-view+json": {
       "model_id": "177421697b684c75b43671d92354d98b",
       "version_major": 2,
       "version_minor": 0
      },
      "text/plain": [
       "Dropdown(description='Select the year for downloading data:', index=74, layout=Layout(width='50%'), options=('…"
      ]
     },
     "execution_count": 9,
     "metadata": {},
     "output_type": "execute_result"
    }
   ],
   "source": [
    "selected_year = widgets.Dropdown(\n",
    "    options=[str(year) for year in range(1950, datetime.now().year + 1)],\n",
    "    value=str(datetime.now().year),\n",
    "    description=\"Select the year for downloading data:\",\n",
    "    disabled=False,\n",
    "    style=dict(description_width='initial'),\n",
    "    layout=widgets.Layout(width='50%'),\n",
    ")\n",
    "\n",
    "selected_year"
   ]
  },
  {
   "cell_type": "markdown",
   "metadata": {},
   "source": [
    "## Define request parameters and download the dataset"
   ]
  },
  {
   "cell_type": "code",
   "execution_count": 10,
   "metadata": {},
   "outputs": [
    {
     "name": "stderr",
     "output_type": "stream",
     "text": [
      "2024-11-25 15:39:02,872 INFO Request ID is 4e437fc9-c164-4ff1-891a-396b2aaf3a77\n"
     ]
    },
    {
     "name": "stderr",
     "output_type": "stream",
     "text": [
      "2024-11-25 15:39:02,991 INFO status has been updated to accepted\n"
     ]
    }
   ],
   "source": [
    "# This request downloads 1 year data: 12 months (365 days, 366 days for leap years) and monthly averaged at 00:00.\n",
    "# The total length of the downloaded dataset is 12*1=12\n",
    "\n",
    "dataset = \"reanalysis-era5-land-monthly-means\"\n",
    "dataset_filename = f\"{dataset}_{selected_variable.value}_{selected_year.value}.nc\"\n",
    "dataset_filepath = os.path.join(download_folder,dataset_filename)\n",
    "\n",
    "request = {\n",
    "    \"product_type\": [\"monthly_averaged_reanalysis\"],\n",
    "    \"variable\": selected_variable.value,\n",
    "    \"year\": selected_year.value,\n",
    "    \"month\": [str(month) for month in range(13)],\n",
    "    \"time\": [\"00:00\"],\n",
    "    \"data_format\": \"netcdf\",\n",
    "    \"download_format\": \"unarchived\",\n",
    "    \"area\": bbox_wgs84_konstanz\n",
    "}\n",
    "\n",
    "\n",
    "# Download the dataset with the defined request paremeters\n",
    "client.retrieve(dataset, request, dataset_filepath)"
   ]
  },
  {
   "cell_type": "markdown",
   "metadata": {},
   "source": [
    "---"
   ]
  },
  {
   "cell_type": "markdown",
   "metadata": {},
   "source": [
    "## Example requests for use case"
   ]
  },
  {
   "cell_type": "code",
   "execution_count": null,
   "metadata": {},
   "outputs": [
    {
     "name": "stderr",
     "output_type": "stream",
     "text": [
      "2024-11-25 12:49:42,658 INFO Request ID is af7ddf9b-38e7-4044-a785-09e998bf634c\n",
      "2024-11-25 12:49:42,887 INFO status has been updated to accepted\n",
      "2024-11-25 12:49:46,852 INFO status has been updated to running\n",
      "2024-11-25 12:54:05,236 INFO status has been updated to successful\n"
     ]
    },
    {
     "data": {
      "application/vnd.jupyter.widget-view+json": {
       "model_id": "7deafc5c33d94c3ebe1bf2f2f1e130c7",
       "version_major": 2,
       "version_minor": 0
      },
      "text/plain": [
       "849be6593dc02fca45a834631b7ace72.nc:   0%|          | 0.00/99.2k [00:00<?, ?B/s]"
      ]
     },
     "metadata": {},
     "output_type": "display_data"
    },
    {
     "data": {
      "text/plain": [
       "'.\\\\data\\\\era5-land-monthly-means\\\\download\\\\reanalysis-era5-land-monthly-means_2m_temperature_1950_2024.nc'"
      ]
     },
     "execution_count": 12,
     "metadata": {},
     "output_type": "execute_result"
    }
   ],
   "source": [
    "# # This request downloads year 1950 to 2024 data, monthly averaged at 00:00\n",
    "# # \"variable\": [\"2m_temperature\"],\n",
    "\n",
    "# dataset = \"reanalysis-era5-land-monthly-means\"\n",
    "# dataset_filename = f\"{dataset}_2m_temperature_1950_2024.nc\"\n",
    "# dataset_filepath = os.path.join(download_folder,dataset_filename)\n",
    "\n",
    "# request = {\n",
    "#     \"product_type\": [\"monthly_averaged_reanalysis\"],\n",
    "#     \"variable\": [\"2m_temperature\"],\n",
    "#     \"year\": [str(year) for year in range(1950,2024+1,1)],\n",
    "#     \"month\": [str(month) for month in range(13)],\n",
    "#     \"time\": [\"00:00\"],\n",
    "#     \"data_format\": \"netcdf\",\n",
    "#     \"download_format\": \"unarchived\",\n",
    "#     \"area\": bbox_wgs84_konstanz\n",
    "# }\n",
    "\n",
    "# # Download the dataset with the defined request paremeters\n",
    "# # client.retrieve(dataset, request, dataset_filepath)"
   ]
  },
  {
   "cell_type": "code",
   "execution_count": 17,
   "metadata": {},
   "outputs": [
    {
     "name": "stderr",
     "output_type": "stream",
     "text": [
      "2024-11-25 13:38:43,232 INFO Request ID is 759c9cf9-d1c3-4735-b83b-429c8964a698\n",
      "2024-11-25 13:38:43,303 INFO status has been updated to accepted\n",
      "2024-11-25 13:38:46,218 INFO status has been updated to running\n",
      "2024-11-25 13:43:07,971 INFO status has been updated to successful\n"
     ]
    },
    {
     "data": {
      "application/vnd.jupyter.widget-view+json": {
       "model_id": "d8aeb4003fd74fc5a6f636b7db8508e5",
       "version_major": 2,
       "version_minor": 0
      },
      "text/plain": [
       "e088925932516ca96805b10d7f94fae9.nc:   0%|          | 0.00/88.9k [00:00<?, ?B/s]"
      ]
     },
     "metadata": {},
     "output_type": "display_data"
    },
    {
     "data": {
      "text/plain": [
       "'.\\\\data\\\\era5-land-monthly-means\\\\download\\\\reanalysis-era5-land-monthly-means_snow_cover_1950_2024_01_04.nc'"
      ]
     },
     "execution_count": 17,
     "metadata": {},
     "output_type": "execute_result"
    }
   ],
   "source": [
    "# This request downloads year 1950 to 2024 data, monthly averaged at 00:00\n",
    "\n",
    "dataset = \"reanalysis-era5-land-monthly-means\"\n",
    "dataset_filename = f\"{dataset}_snow_cover_1950_2024.nc\"\n",
    "dataset_filepath = os.path.join(download_folder,dataset_filename)\n",
    "\n",
    "request = {\n",
    "    \"product_type\": [\"monthly_averaged_reanalysis\"],\n",
    "    \"variable\": [\"snow_cover\"],\n",
    "    \"year\": [str(year) for year in range(1950,2024+1,1)],\n",
    "    \"month\": [str(month) for month in range(13)],\n",
    "    \"time\": [\"00:00\"],\n",
    "    \"data_format\": \"netcdf\",\n",
    "    \"download_format\": \"unarchived\",\n",
    "    \"area\": bbox_wgs84_konstanz\n",
    "}\n",
    "\n",
    "# Download the dataset with the defined request paremeters\n",
    "client.retrieve(dataset, request, dataset_filepath)"
   ]
  },
  {
   "cell_type": "code",
   "execution_count": 16,
   "metadata": {},
   "outputs": [
    {
     "name": "stderr",
     "output_type": "stream",
     "text": [
      "2024-11-25 13:00:42,348 INFO Request ID is 0b941e72-2d6d-423b-8d8b-3af51d4a2ccd\n",
      "2024-11-25 13:00:42,782 INFO status has been updated to accepted\n",
      "2024-11-25 13:00:50,016 INFO status has been updated to running\n",
      "2024-11-25 13:05:07,787 INFO status has been updated to successful\n"
     ]
    },
    {
     "data": {
      "application/vnd.jupyter.widget-view+json": {
       "model_id": "4d6d319eee6d41469d8cf1b22890839c",
       "version_major": 2,
       "version_minor": 0
      },
      "text/plain": [
       "7eab4debad3e457ad7700eeab1b12a9e.nc:   0%|          | 0.00/90.5k [00:00<?, ?B/s]"
      ]
     },
     "metadata": {},
     "output_type": "display_data"
    },
    {
     "data": {
      "text/plain": [
       "'.\\\\data\\\\era5-land-monthly-means\\\\download\\\\reanalysis-era5-land-monthly-means_lake_ice_depth_1950_2024.nc'"
      ]
     },
     "execution_count": 16,
     "metadata": {},
     "output_type": "execute_result"
    }
   ],
   "source": [
    "# # This request downloads year 1950 to 2024 data, monthly averaged at 00:00\n",
    "# # for month January to March and November and December\n",
    "\n",
    "# dataset = \"reanalysis-era5-land-monthly-means\"\n",
    "# dataset_filename = f\"{dataset}_lake_ice_depth_1950_2024.nc\"\n",
    "# dataset_filepath = os.path.join(download_folder,dataset_filename)\n",
    "\n",
    "# request = {\n",
    "#     \"product_type\": [\"monthly_averaged_reanalysis\"],\n",
    "#     \"variable\": [\"lake_ice_depth\"],\n",
    "#     \"year\": [str(year) for year in range(1950,2024+1,1)],\n",
    "#     \"month\": [str(month) for month in range(13)],\n",
    "#     \"time\": [\"00:00\"],\n",
    "#     \"data_format\": \"netcdf\",\n",
    "#     \"download_format\": \"unarchived\",\n",
    "#     \"area\": bbox_wgs84_konstanz\n",
    "# }\n",
    "\n",
    "# # Download the dataset with the defined request paremeters\n",
    "# client.retrieve(dataset, request, dataset_filepath)"
   ]
  }
 ],
 "metadata": {
  "kernelspec": {
   "display_name": "venv",
   "language": "python",
   "name": "python3"
  },
  "language_info": {
   "codemirror_mode": {
    "name": "ipython",
    "version": 3
   },
   "file_extension": ".py",
   "mimetype": "text/x-python",
   "name": "python",
   "nbconvert_exporter": "python",
   "pygments_lexer": "ipython3",
   "version": "3.10.0"
  }
 },
 "nbformat": 4,
 "nbformat_minor": 2
}