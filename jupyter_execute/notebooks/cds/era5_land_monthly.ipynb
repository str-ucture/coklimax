{
 "cells": [
  {
   "cell_type": "markdown",
   "metadata": {},
   "source": [
    "# ERA5-Land Monthly Averaged\n",
    "\n",
    "* [ERA5-Land Monthly Averaged](https://cds.climate.copernicus.eu/datasets/reanalysis-era5-land-monthly-means?tab=overview)\n",
    "* [Documentation](https://confluence.ecmwf.int/display/CKB/ERA5-Land%3A+data+documentation)"
   ]
  },
  {
   "cell_type": "markdown",
   "metadata": {},
   "source": [
    "## Import dependencies"
   ]
  },
  {
   "cell_type": "code",
   "execution_count": 1,
   "metadata": {},
   "outputs": [],
   "source": [
    "import os\n",
    "import cdsapi\n",
    "import ipywidgets as widgets\n",
    "from datetime import datetime\n",
    "\n",
    "from cds_client_util import initialize_cds_client"
   ]
  },
  {
   "cell_type": "markdown",
   "metadata": {},
   "source": [
    "## Manage Working Directories"
   ]
  },
  {
   "cell_type": "code",
   "execution_count": 2,
   "metadata": {},
   "outputs": [],
   "source": [
    "# The directories (if doesn't exist) will be created in the Data folder\n",
    "download_folder = r\".\\Data\\ERA5-land-monthly-means\\Download\"\n",
    "working_folder = r\".\\Data\\ERA5-land-monthly-means\\Working\"\n",
    "output_folder = r\".\\Data\\ERA5-land-monthly-means\\Output\"\n",
    "\n",
    "if not os.path.exists(working_folder):\n",
    "    os.makedirs(working_folder)\n",
    "if not os.path.exists(output_folder):\n",
    "    os.makedirs(output_folder)\n",
    "if not os.path.exists(download_folder):\n",
    "    os.makedirs(download_folder)"
   ]
  },
  {
   "cell_type": "markdown",
   "metadata": {},
   "source": [
    "## CDS API key and authentication"
   ]
  },
  {
   "cell_type": "code",
   "execution_count": 3,
   "metadata": {},
   "outputs": [
    {
     "name": "stdout",
     "output_type": "stream",
     "text": [
      "Error: The .cdsapirc file was not found at ../Secrets/.cdsapirc.\n"
     ]
    }
   ],
   "source": [
    "# Use the function to initialize the client\n",
    "try:\n",
    "    client = initialize_cds_client(\"../Secrets/.cdsapirc\")\n",
    "    print(\"CDS API Client initialized successfully!\")\n",
    "except (FileNotFoundError, ValueError) as e:\n",
    "    print(f\"Error: {e}\")"
   ]
  },
  {
   "cell_type": "code",
   "execution_count": 4,
   "metadata": {},
   "outputs": [],
   "source": [
    "# Alternative: Enter your CDS API key directly\n",
    "# ------------------------------------------------------\n",
    "# If you have not created the \".cdsapirc\" file or prefer not to use it, \n",
    "# you can manually input your CDS API key in this notebook cell.\n",
    "# This approach is helpful for quick testing or one-off uses but is not recommended \n",
    "# for long-term or automated workflows as it requires manual input and may expose your key.\n",
    "# ------------------------------------------------------\n",
    "\n",
    "# import getpass\n",
    "\n",
    "# api_key = getpass.getpass(\"Enter your CDS API Key:\")\n",
    "# api_url = \"https://cds.climate.copernicus.eu/api\"\n",
    "# client = cdsapi.Client(url=api_url, key=api_key)"
   ]
  },
  {
   "cell_type": "markdown",
   "metadata": {},
   "source": [
    "## Create list of variables and variable group to dynamically select the variable group and variable to download\n",
    "\n",
    "The list of variables are available at [ERA5-Land Monthly Averaged](https://cds.climate.copernicus.eu/datasets/reanalysis-era5-land-monthly-means?tab=overview)\n",
    "\n",
    "*Please check and modify the predefined variable name if any issue arises with variable name.* "
   ]
  },
  {
   "cell_type": "code",
   "execution_count": 5,
   "metadata": {},
   "outputs": [],
   "source": [
    "# Variable Groups\n",
    "var_group_temperature = [\n",
    "    \"2m_dewpoint_temperature\",\n",
    "    \"2m_temperature\",\n",
    "    \"skin_temperature\",\n",
    "    \"soil_temperature_level_1\",\n",
    "    \"soil_temperature_level_2\",\n",
    "    \"soil_temperature_level_3\",\n",
    "    \"soil_temperature_level_4\"]\n",
    "\n",
    "var_group_lake = [\n",
    "    \"lake_bottom_temperature\",\n",
    "    \"lake_ice_depth\",\n",
    "    \"lake_ice_temperature\",\n",
    "    \"lake_mix_layer_depth\",\n",
    "    \"lake_mix_layer_temperature\",\n",
    "    \"lake_shape_factor\",\n",
    "    \"lake_total_layer_temperature\"]\n",
    "\n",
    "var_group_snow = [\n",
    "    \"snow_albedo\",\n",
    "    \"snow_cover\",\n",
    "    \"snow_density\",\n",
    "    \"snow_depth\",\n",
    "    \"snow_depth_water_equivalent\",\n",
    "    \"snowfall\",\n",
    "    \"snowmelt\",\n",
    "    \"temperature_of_snow_layer\"]\n",
    "\n",
    "var_group_soil_water = [\n",
    "    \"skin_reservoir_content\",\n",
    "    \"volumetric_soil_water_layer_1\",\n",
    "    \"volumetric_soil_water_layer_2\",\n",
    "    \"volumetric_soil_water_layer_3\",\n",
    "    \"volumetric_soil_water_layer_4\"]\n",
    "\n",
    "var_group_radiation_and_heat = [\n",
    "    \"forecast_albedo\",\n",
    "    \"surface_latent_heat_flux\",\n",
    "    \"surface_net_solar_radiation\",\n",
    "    \"surface_net_thermal_radiation\",\n",
    "    \"surface_sensible_heat_flux\",\n",
    "    \"surface_solar_radiation_downwards\",\n",
    "    \"surface_thermal_radiation_downwards\"]\n",
    "\n",
    "var_group_evaporation_and_runoff = [\n",
    "    \"evaporation_from_bare_soil\",\n",
    "    \"evaporation_from_open_water_surfaces_excluding_oceans\",\n",
    "    \"evaporation_from_the_top_of_canopy\",\n",
    "    \"evaporation_from_vegetation_transpiration\",\n",
    "    \"potential_evaporation\",\n",
    "    \"runoff\",\n",
    "    \"snow_evaporation\",\n",
    "    \"sub_surface_runoff\",\n",
    "    \"surface_runoff\",\n",
    "    \"total_evaporation\"]\n",
    "\n",
    "var_group_wind_pressure_and_precipitation = [\n",
    "    \"10m_u_component_of_wind\",\n",
    "    \"10m_v_component_of_wind\",\n",
    "    \"surface_pressure\",\n",
    "    \"total_precipitation\"]\n",
    "\n",
    "var_group_vegetation = [\n",
    "    \"leaf_area_index_high_vegetation\",\n",
    "    \"leaf_area_index_low_vegetation\"]\n",
    "\n",
    "# List of variable group\n",
    "var_group_list = ['var_group_temperature',\n",
    "                  'var_group_lake',\n",
    "                  'var_group_snow',\n",
    "                  'var_group_soil_water',\n",
    "                  'var_group_radiation_and_heat',\n",
    "                  'var_group_evaporation_and_runoff',\n",
    "                  'var_group_wind_pressure_and_precipitation',\n",
    "                  'var_group_vegetation']"
   ]
  },
  {
   "cell_type": "markdown",
   "metadata": {},
   "source": [
    "## Define download request parameters to download the desired dataset"
   ]
  },
  {
   "cell_type": "code",
   "execution_count": 6,
   "metadata": {},
   "outputs": [
    {
     "data": {
      "application/vnd.jupyter.widget-view+json": {
       "model_id": "24a56310c24d43ad8dcb16e70551d4bd",
       "version_major": 2,
       "version_minor": 0
      },
      "text/plain": [
       "Dropdown(description='Select the variable group', layout=Layout(width='50%'), options=('var_group_temperature'…"
      ]
     },
     "execution_count": 6,
     "metadata": {},
     "output_type": "execute_result"
    }
   ],
   "source": [
    "selected_variable_group = widgets.Dropdown(\n",
    "    options=var_group_list,\n",
    "    value=var_group_list[0],\n",
    "    description=\"Select the variable group\",\n",
    "    style=dict(description_width='initial'),\n",
    "    layout=widgets.Layout(width='50%'),\n",
    ")\n",
    "\n",
    "selected_variable_group"
   ]
  },
  {
   "cell_type": "code",
   "execution_count": 7,
   "metadata": {},
   "outputs": [
    {
     "data": {
      "application/vnd.jupyter.widget-view+json": {
       "model_id": "1349254d65d44a8390e397214520cd67",
       "version_major": 2,
       "version_minor": 0
      },
      "text/plain": [
       "Dropdown(description='Select the variable of interest', layout=Layout(width='50%'), options=('2m_dewpoint_temp…"
      ]
     },
     "execution_count": 7,
     "metadata": {},
     "output_type": "execute_result"
    }
   ],
   "source": [
    "current_variable_group = globals().get(selected_variable_group.value)\n",
    "\n",
    "selected_variable = widgets.Dropdown(\n",
    "    options=current_variable_group,\n",
    "    value=current_variable_group[0],\n",
    "    description=\"Select the variable of interest\",\n",
    "    style=dict(description_width='initial'),\n",
    "    layout=widgets.Layout(width='50%'),\n",
    ")\n",
    "\n",
    "selected_variable"
   ]
  },
  {
   "cell_type": "code",
   "execution_count": 8,
   "metadata": {},
   "outputs": [],
   "source": [
    "# Define the bounding box extents in CRS: WGS84 in this format [lat_max, lon_min, lat_min, lon_max]\n",
    "# Recommended precision is 0.1 because Horizontal resolution: 0.1° x 0.1°; Native resolution is 9 km.\n",
    "\n",
    "bbox_wgs84_deutschland = [56.0, 5.8, 47.2, 15.0] # Bouding box for Germany\n",
    "bbox_wgs84_konstanz = [9.00, 47.60, 9.30, 47.80] # Bounding box for Konstanz, Germany"
   ]
  },
  {
   "cell_type": "code",
   "execution_count": 9,
   "metadata": {},
   "outputs": [
    {
     "data": {
      "application/vnd.jupyter.widget-view+json": {
       "model_id": "f1b82eedaefc4441bd0a916eead2cfcb",
       "version_major": 2,
       "version_minor": 0
      },
      "text/plain": [
       "Dropdown(description='Select the year for downloading data:', index=74, layout=Layout(width='50%'), options=('…"
      ]
     },
     "execution_count": 9,
     "metadata": {},
     "output_type": "execute_result"
    }
   ],
   "source": [
    "selected_year = widgets.Dropdown(\n",
    "    options=[str(year) for year in range(1950, datetime.now().year + 1)],\n",
    "    value=str(datetime.now().year),\n",
    "    description=\"Select the year for downloading data:\",\n",
    "    disabled=False,\n",
    "    style=dict(description_width='initial'),\n",
    "    layout=widgets.Layout(width='50%'),\n",
    ")\n",
    "\n",
    "selected_year"
   ]
  },
  {
   "cell_type": "code",
   "execution_count": 10,
   "metadata": {},
   "outputs": [
    {
     "data": {
      "application/vnd.jupyter.widget-view+json": {
       "model_id": "3e36a29c377e41f98328f46a7932f75a",
       "version_major": 2,
       "version_minor": 0
      },
      "text/plain": [
       "Dropdown(description='Select the year for downloading data:', index=74, layout=Layout(width='50%'), options=('…"
      ]
     },
     "execution_count": 10,
     "metadata": {},
     "output_type": "execute_result"
    }
   ],
   "source": [
    "selected_year = widgets.Dropdown(\n",
    "    options=[str(year) for year in range(1950, datetime.now().year + 1)],\n",
    "    value=str(datetime.now().year),\n",
    "    description=\"Select the year for downloading data:\",\n",
    "    disabled=False,\n",
    "    style=dict(description_width='initial'),\n",
    "    layout=widgets.Layout(width='50%'),\n",
    ")\n",
    "\n",
    "selected_year"
   ]
  },
  {
   "cell_type": "markdown",
   "metadata": {},
   "source": [
    "## Define request parameters and download the dataset"
   ]
  },
  {
   "cell_type": "code",
   "execution_count": 11,
   "metadata": {},
   "outputs": [
    {
     "ename": "NameError",
     "evalue": "name 'client' is not defined",
     "output_type": "error",
     "traceback": [
      "\u001b[1;31m---------------------------------------------------------------------------\u001b[0m",
      "\u001b[1;31mNameError\u001b[0m                                 Traceback (most recent call last)",
      "Cell \u001b[1;32mIn[11], line 21\u001b[0m\n\u001b[0;32m      8\u001b[0m request \u001b[38;5;241m=\u001b[39m {\n\u001b[0;32m      9\u001b[0m     \u001b[38;5;124m\"\u001b[39m\u001b[38;5;124mproduct_type\u001b[39m\u001b[38;5;124m\"\u001b[39m: [\u001b[38;5;124m\"\u001b[39m\u001b[38;5;124mmonthly_averaged_reanalysis\u001b[39m\u001b[38;5;124m\"\u001b[39m],\n\u001b[0;32m     10\u001b[0m     \u001b[38;5;124m\"\u001b[39m\u001b[38;5;124mvariable\u001b[39m\u001b[38;5;124m\"\u001b[39m: selected_variable\u001b[38;5;241m.\u001b[39mvalue,\n\u001b[1;32m   (...)\u001b[0m\n\u001b[0;32m     16\u001b[0m     \u001b[38;5;124m\"\u001b[39m\u001b[38;5;124marea\u001b[39m\u001b[38;5;124m\"\u001b[39m: bbox_wgs84_konstanz\n\u001b[0;32m     17\u001b[0m }\n\u001b[0;32m     20\u001b[0m \u001b[38;5;66;03m# Download the dataset with the defined request paremeters\u001b[39;00m\n\u001b[1;32m---> 21\u001b[0m \u001b[43mclient\u001b[49m\u001b[38;5;241m.\u001b[39mretrieve(dataset, request, dataset_filepath)\n",
      "\u001b[1;31mNameError\u001b[0m: name 'client' is not defined"
     ]
    }
   ],
   "source": [
    "# This request downloads 1 year data: 12 months (365 days, 366 days for leap years) and monthly averaged at 00:00.\n",
    "# The total length of the downloaded dataset is 12*1=12\n",
    "\n",
    "dataset = \"reanalysis-era5-land-monthly-means\"\n",
    "dataset_filename = f\"{dataset}_{selected_variable.value}_{selected_year.value}.nc\"\n",
    "dataset_filepath = os.path.join(download_folder,dataset_filename)\n",
    "\n",
    "request = {\n",
    "    \"product_type\": [\"monthly_averaged_reanalysis\"],\n",
    "    \"variable\": selected_variable.value,\n",
    "    \"year\": selected_year.value,\n",
    "    \"month\": [str(month) for month in range(13)],\n",
    "    \"time\": [\"00:00\"],\n",
    "    \"data_format\": \"netcdf\",\n",
    "    \"download_format\": \"unarchived\",\n",
    "    \"area\": bbox_wgs84_konstanz\n",
    "}\n",
    "\n",
    "\n",
    "# Download the dataset with the defined request paremeters\n",
    "client.retrieve(dataset, request, dataset_filepath)"
   ]
  }
 ],
 "metadata": {
  "kernelspec": {
   "display_name": "venv",
   "language": "python",
   "name": "python3"
  },
  "language_info": {
   "codemirror_mode": {
    "name": "ipython",
    "version": 3
   },
   "file_extension": ".py",
   "mimetype": "text/x-python",
   "name": "python",
   "nbconvert_exporter": "python",
   "pygments_lexer": "ipython3",
   "version": "3.10.0"
  }
 },
 "nbformat": 4,
 "nbformat_minor": 2
}