{
 "cells": [
  {
   "cell_type": "markdown",
   "metadata": {},
   "source": [
    "# Setup Verification\n",
    "\n",
    "Download this notebook and place it inside any directory inside your current folder, preferebly inside `./source/notebooks/`, activate the virtual environment \"cds_env\" and execute the code. This notebook checks if all the required libraries and APIs are properly installed and configured."
   ]
  },
  {
   "cell_type": "code",
   "execution_count": null,
   "metadata": {},
   "outputs": [
    {
     "ename": "",
     "evalue": "",
     "output_type": "error",
     "traceback": [
      "\u001b[1;31mThe kernel failed to start as the Python Environment 'venv (Python 3.10.0)' is no longer available. Consider selecting another kernel or refreshing the list of Python Environments."
     ]
    }
   ],
   "source": [
    "\n",
    "# Import required modules\n",
    "import sys\n",
    "import os\n",
    "import importlib\n",
    "from time import sleep\n",
    "\n",
    "# Define a flag to track errors\n",
    "setup_errors = False\n",
    "\n",
    "print(\"Checking your setup...\\n\")\n",
    "\n",
    "# Step 1: Check Python version\n",
    "print(\"1. Checking Python version...\")\n",
    "if sys.version_info.major == 3 and sys.version_info.minor >= 7:\n",
    "    print(\"✅ Python version is compatible.\")\n",
    "else:\n",
    "    print(\"❌ Python version is not compatible. Please install Python 3.7 or higher.\")\n",
    "    setup_errors = True\n",
    "\n",
    "# Step 2: List of required libraries\n",
    "required_libraries = [\"numpy\",\n",
    "                      \"pandas\",\n",
    "                      \"geopandas\",\n",
    "                      \"leafmap\",\n",
    "                      \"netCDF4\",\n",
    "                      \"rasterio\",\n",
    "                      \"matplotlib\",\n",
    "                      \"sentinelhub\",\n",
    "                      \"scipy\",\n",
    "                      \"itables\",\n",
    "                      \"cdsapi\",\n",
    "                      \"folium\",\n",
    "                      \"ipywidgets\",\n",
    "                      ]\n",
    "\n",
    "# matplotlib numpy pandas geopandas leafmap netCDF4 cdsapi sentinelhub itables rasterio xarray localtileserver\n",
    "\n",
    "# pip install sphinx\n",
    "# pip install sphinx-copybutton\n",
    "# pip install myst-nb\n",
    "# pip install nbsphinx\n",
    "# pip install sphinx-rtd-theme\n",
    "\n",
    "\n",
    "print(\"\\n2. Checking required libraries...\")\n",
    "for lib in required_libraries:\n",
    "    try:\n",
    "        # Attempt to import the library\n",
    "        importlib.import_module(lib)\n",
    "        print(f\"✅ {lib} is installed.\")\n",
    "    except ImportError:\n",
    "        print(f\"❌ {lib} is not installed. Please follow the instructions to install it.\")\n",
    "        setup_errors = True\n",
    "    sleep(0.1)\n",
    "\n",
    "# # Step 3: Check CDS API key configuration\n",
    "# print(\"\\n3. Verifying CDS API configuration...\")\n",
    "# if os.path.exists(os.path.expanduser(\"~/.cdsapirc\")):\n",
    "#     print(\"✅ CDS API key is configured.\")\n",
    "# else:\n",
    "#     print(\"❌ CDS API key is not configured. Please follow the instructions to set it up.\")\n",
    "#     setup_errors = True\n",
    "\n",
    "# Final result\n",
    "if not setup_errors:\n",
    "    print(\"\\n🎉 Congratulations! Your setup is complete. You can proceed to the course notebooks.\")\n",
    "else:\n",
    "    print(\"\\n⚠️ There are issues with your setup. Please review the errors above and refer to the setup instructions.\")\n"
   ]
  }
 ],
 "metadata": {
  "kernelspec": {
   "display_name": "venv",
   "language": "python",
   "name": "python3"
  },
  "language_info": {
   "codemirror_mode": {
    "name": "ipython",
    "version": 3
   },
   "file_extension": ".py",
   "mimetype": "text/x-python",
   "name": "python",
   "nbconvert_exporter": "python",
   "pygments_lexer": "ipython3",
   "version": "3.10.0"
  }
 },
 "nbformat": 4,
 "nbformat_minor": 2
}