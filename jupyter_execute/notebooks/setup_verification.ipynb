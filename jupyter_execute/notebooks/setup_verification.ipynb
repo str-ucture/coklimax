{
 "cells": [
  {
   "cell_type": "markdown",
   "metadata": {},
   "source": [
    "# Setup Verification\n",
    "\n",
    "Download this notebook and place it inside any directory inside your current folder, preferebly inside `./source/notebooks/`, activate the virtual environment \"cds_env\" and execute the code. This notebook checks if all the required libraries and APIs are properly installed and configured."
   ]
  },
  {
   "cell_type": "code",
   "execution_count": 3,
   "metadata": {},
   "outputs": [
    {
     "name": "stdout",
     "output_type": "stream",
     "text": [
      "Checking your setup...\n",
      "\n",
      "1. Checking Python version...\n",
      "✅ Python version is compatible.\n",
      "\n",
      "2. Checking required libraries...\n",
      "✅ matplotlib is installed.\n",
      "✅ numpy is installed.\n",
      "✅ pandas is installed.\n",
      "✅ geopandas is installed.\n",
      "✅ leafmap is installed.\n",
      "✅ netCDF4 is installed.\n",
      "✅ cdsapi is installed.\n",
      "✅ sentinelhub is installed.\n",
      "✅ itables is installed.\n",
      "✅ rasterio is installed.\n",
      "✅ xarray is installed.\n",
      "✅ localtileserver is installed.\n",
      "\n",
      "🎉 Congratulations! Your setup is complete. You can proceed to the course notebooks.\n"
     ]
    }
   ],
   "source": [
    "# Import required modules\n",
    "import sys\n",
    "import importlib\n",
    "from time import sleep\n",
    "\n",
    "# Define a flag to track errors\n",
    "setup_errors = False\n",
    "\n",
    "print(\"Checking your setup...\\n\")\n",
    "\n",
    "# Step 1: Check Python version\n",
    "print(\"1. Checking Python version...\")\n",
    "if sys.version_info.major == 3 and sys.version_info.minor >= 7:\n",
    "    print(\"✅ Python version is compatible.\")\n",
    "else:\n",
    "    print(\"❌ Python version is not compatible. Please install Python 3.7 or higher.\")\n",
    "    setup_errors = True\n",
    "\n",
    "# Step 2: List of required libraries\n",
    "required_libraries = [\"matplotlib\",\n",
    "                      \"numpy\",\n",
    "                      \"pandas\",\n",
    "                      \"geopandas\",\n",
    "                      \"leafmap\",\n",
    "                      \"netCDF4\",\n",
    "                      \"cdsapi\",\n",
    "                      \"sentinelhub\",\n",
    "                      \"itables\",\n",
    "                      \"rasterio\",\n",
    "                      \"xarray\",\n",
    "                      \"localtileserver\",\n",
    "                      ]\n",
    "\n",
    "# matplotlib numpy pandas geopandas leafmap netCDF4 cdsapi sentinelhub itables rasterio xarray localtileserver\n",
    "# sphinx sphinx-copybutton myst-nb nbsphinx sphinx-rtd-theme\n",
    "\n",
    "print(\"\\n2. Checking required libraries...\")\n",
    "for lib in required_libraries:\n",
    "    try:\n",
    "        # Attempt to import the library\n",
    "        importlib.import_module(lib)\n",
    "        print(f\"✅ {lib} is installed.\")\n",
    "    except ImportError:\n",
    "        print(f\"❌ {lib} is not installed. Please follow the instructions to install it.\")\n",
    "        setup_errors = True\n",
    "    sleep(0.1)\n",
    "\n",
    "# # Step 3: Check CDS API key configuration\n",
    "# print(\"\\n3. Verifying CDS API configuration...\")\n",
    "# if os.path.exists(os.path.expanduser(\"~/.cdsapirc\")):\n",
    "#     print(\"✅ CDS API key is configured.\")\n",
    "# else:\n",
    "#     print(\"❌ CDS API key is not configured. Please follow the instructions to set it up.\")\n",
    "#     setup_errors = True\n",
    "\n",
    "# Final result\n",
    "if not setup_errors:\n",
    "    print(\"\\n🎉 Congratulations! Your setup is complete. You can proceed to the course notebooks.\")\n",
    "else:\n",
    "    print(\"\\n⚠️ There are issues with your setup. Please review the errors above and refer to the setup instructions.\")\n"
   ]
  }
 ],
 "metadata": {
  "kernelspec": {
   "display_name": "cds_venv",
   "language": "python",
   "name": "python3"
  },
  "language_info": {
   "codemirror_mode": {
    "name": "ipython",
    "version": 3
   },
   "file_extension": ".py",
   "mimetype": "text/x-python",
   "name": "python",
   "nbconvert_exporter": "python",
   "pygments_lexer": "ipython3",
   "version": "3.10.0"
  }
 },
 "nbformat": 4,
 "nbformat_minor": 2
}