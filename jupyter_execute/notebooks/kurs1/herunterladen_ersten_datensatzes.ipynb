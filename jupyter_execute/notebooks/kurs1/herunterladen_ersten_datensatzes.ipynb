{
 "cells": [
  {
   "cell_type": "markdown",
   "metadata": {},
   "source": [
    "# Download your first dataset\n",
    "\n",
    "ERA5-Land is a high-resolution reanalysis dataset that provides a consistent and detailed view of land variables over several decades, combining model data with atmospheric forcings from ERA5 to ensure accuracy. By correcting input variables for elevation differences and leveraging indirect observational forcings, it provides improved precision for land surface applications such as flood and drought forecasting. Despite some inherent uncertainties, ERA5-Land is a valuable resource for decision-making and environmental analysis due to its comprehensive temporal and spatial resolution.\n",
    "\n",
    "## Dataset: Climate indicator Europe from 1940 to 2100\n",
    "\n",
    "• Data source: [Climate Indicator Europe](https://cds.climate.copernicus.eu/datasets/sis-ecde-climate-indicators?tab=download)\\\n",
    "• [Documentation](https://confluence.ecmwf.int/display/CKB/ECDE+indicators+catalogue+entry%3A+Product+User+Guide)"
   ]
  },
  {
   "cell_type": "markdown",
   "metadata": {},
   "source": [
    "## Specifying the paths and working directories\n",
    "\n",
    "Specifying paths and working directories in Jupyter Notebook is essential for ensuring the notebook correctly accesses and saves files, enabling seamless data loading, script execution, and result storage. It eliminates confusion over file locations, reducing errors and making the code more portable and reproducible across different systems."
   ]
  },
  {
   "cell_type": "code",
   "execution_count": 1,
   "metadata": {},
   "outputs": [],
   "source": [
    "import os\n",
    "\n",
    "''' ---- Hier die Verzeichnisse angeben ---- '''\n",
    "\n",
    "download_folder = r\".\\data\\era5-land-monthly\\download\"\n",
    "working_folder = r\".\\data\\era5-land-monthly\\working\"\n",
    "output_folder = r\".\\data\\era5-land-monthly\\output\"\n",
    "\n",
    "''' ----- Ende der Eingaben ---- '''\n",
    "\n",
    "if not os.path.exists(working_folder):\n",
    "    os.makedirs(working_folder)\n",
    "if not os.path.exists(output_folder):\n",
    "    os.makedirs(output_folder)\n",
    "if not os.path.exists(download_folder):\n",
    "    os.makedirs(download_folder)"
   ]
  },
  {
   "cell_type": "markdown",
   "metadata": {},
   "source": [
    "## Filter and download dataset\n",
    "\n",
    "This section outlines a process for downloading a test dataset from **ERA5-Land Monthly Averaged** Data. We'll retrieve variables from the **\"Temperature\"** group using the CDS API. The process involves two steps:\n",
    "\n",
    "1. **Authentication**: Replace api_key with your Personal Access Token from the CDS website.\n",
    "\n",
    "2. **API Request Definition**: Specify the dataset and variables on the CDS download page and include them in your API request.\n",
    "\n",
    "3. **Execute API request and download**: Download the dataset based on the provided fields (parameters) for filtering the dataset."
   ]
  },
  {
   "cell_type": "markdown",
   "metadata": {},
   "source": [
    "### 1. Authentication\n"
   ]
  },
  {
   "cell_type": "code",
   "execution_count": 2,
   "metadata": {},
   "outputs": [
    {
     "name": "stderr",
     "output_type": "stream",
     "text": [
      "2024-11-27 17:51:24,129 CRITICAL [2024-11-27T00:00:00] System is currently unavailable. Please follow updates [here](https://forum.ecmwf.int/t/cds-ads-and-ewds-down-until-further-notice/8015) and status [here](https://status.ecmwf.int/)\n"
     ]
    },
    {
     "name": "stderr",
     "output_type": "stream",
     "text": [
      "2024-11-27 17:51:24,135 INFO [2024-09-28T00:00:00] **Welcome to the New Climate Data Store (CDS)!** This new system is in its early days of full operations and still undergoing enhancements and fine tuning. Some disruptions are to be expected. Your \n",
      "[feedback](https://jira.ecmwf.int/plugins/servlet/desk/portal/1/create/202) is key to improve the user experience on the new CDS for the benefit of everyone. Thank you.\n"
     ]
    },
    {
     "name": "stderr",
     "output_type": "stream",
     "text": [
      "2024-11-27 17:51:24,137 INFO [2024-09-26T00:00:00] Watch our [Forum](https://forum.ecmwf.int/) for Announcements, news and other discussed topics.\n"
     ]
    },
    {
     "name": "stderr",
     "output_type": "stream",
     "text": [
      "2024-11-27 17:51:24,139 INFO [2024-09-16T00:00:00] Remember that you need to have an ECMWF account to use the new CDS. **Your old CDS credentials will not work in new CDS!**\n"
     ]
    },
    {
     "name": "stderr",
     "output_type": "stream",
     "text": [
      "2024-11-27 17:51:24,141 WARNING [2024-06-16T00:00:00] CDS API syntax is changed and some keys or parameter names may have also changed. To avoid requests failing, please use the \"Show API request code\" tool on the dataset Download Form to check you are using the correct syntax for your API request.\n"
     ]
    }
   ],
   "source": [
    "import cdsapi\n",
    "\n",
    "def main():\n",
    "    api_key = \"fdae60fd-35d4-436f-825c-c63fedab94a4\"\n",
    "    api_url = \"https://cds.climate.copernicus.eu/api\"\n",
    "    client = cdsapi.Client(url=api_url, key=api_key)\n",
    "\n",
    "if __name__ == \"__main__\":\n",
    "    main()"
   ]
  },
  {
   "cell_type": "markdown",
   "metadata": {},
   "source": [
    "### 2. API Request Definition\n",
    "\n",
    "1. Open *this link* in your browser: [ERA-5 Land Monthly](https://cds.climate.copernicus.eu/datasets/reanalysis-era5-land-monthly-means?tab=download)\n",
    "\n",
    "*Make sure that you are logged with your [CDS](https://cds.climate.copernicus.eu/) account*\n",
    "\n",
    "2. Select request fields:\n",
    "   1. **Product type**: \"Monthly averaged reanalysis\"\n",
    "   2. **Variable**: \"2m temperature\"\n",
    "\n",
    "   <img src=\"./images/era5_land_monthly/01_product_type_and_variable.png\" width=\"700\" style=\"display: block; margin: 0 auto; border: 1px solid #aeaeae\">\n",
    "\n",
    "   3. **Year**: Click on \"<span style=\"color:blue; text-decoration:underline;\">Select all</span>\"\n",
    "   4. **Month**: Click on \"<span style=\"color:blue; text-decoration:underline;\">Select all</span>\n",
    "   5. **Time**: \"00:00\"\n",
    "\n",
    "   <img src=\"./images/era5_land_monthly/02_year_month_time.png\" width=\"700\" style=\"display: block; margin: 0 auto; border: 1px solid #aeaeae\">\n",
    "\n",
    "   6. **Geographical area**: Select \"Sub-region extraction\" and update the values as:\n",
    "\n",
    "      <div align=\"center\">\n",
    "\n",
    "      | Direction | Value |\n",
    "      | --------- | ----- |\n",
    "      | North     | 47.8  |\n",
    "      | West      | 9.0   |\n",
    "      | East      | 9.3   |\n",
    "      | South     | 47.6  |\n",
    "      \n",
    "      </div>\n",
    "\n",
    "\n",
    "   <img src=\"./images/era5_land_monthly/03_geographical_area.png\" width=\"700\" style=\"display: block; margin: 0 auto; border: 1px solid #aeaeae\">\n",
    "\n",
    "   7. **Data format**: \"NetCDF4 (Experimental)\"\n",
    "   8. **Download format**: \"Unarchieved (not zipped if single file)\"\n",
    "\n",
    "   *Then accept the **Terms of use**.*\n",
    "\n",
    "   <img src=\"./images/era5_land_monthly/04_data_format_download_format_terms_of_use.png\" width=\"700\" style=\"display: block; margin: 0 auto; border: 1px solid #aeaeae\">\n",
    "\n",
    "3. If you have done everything correctly in Step 2, the API request should look something like this.\n",
    "\n",
    "   <img src=\"./images/era5_land_monthly/05_api_request.png\" width=\"700\" style=\"display: block; margin: 0 auto; border: 1px solid #aeaeae\">\n",
    "\n",
    "For the next step, you will only need the **dataset** and **request** from the API request code. Copy and past it in the next cell.\n",
    "\n",
    "**_Important_**: Larget dataset means longer *Queue* time and longer processing duration. So, it is recommended to apply filters appropriately."
   ]
  },
  {
   "cell_type": "markdown",
   "metadata": {},
   "source": [
    "### 3. Execute API request and download\n",
    "\n",
    "Replace the dataset and request from API request to the cell below."
   ]
  },
  {
   "cell_type": "code",
   "execution_count": 3,
   "metadata": {},
   "outputs": [],
   "source": [
    "dataset = \"reanalysis-era5-land-monthly-means\"\n",
    "request = {\n",
    "    \"product_type\": [\"monthly_averaged_reanalysis\"],\n",
    "    \"variable\": [\"2m_temperature\"],\n",
    "    \"year\": [\n",
    "        \"2020\", \"2021\",\n",
    "        \"2022\", \"2023\", \"2024\"\n",
    "    ],\n",
    "    \"month\": [\n",
    "        \"01\", \"02\", \"03\",\n",
    "        \"04\", \"05\", \"06\",\n",
    "        \"07\", \"08\", \"09\",\n",
    "        \"10\", \"11\", \"12\"\n",
    "    ],\n",
    "    \"time\": [\"00:00\"],\n",
    "    \"data_format\": \"netcdf\",\n",
    "    \"download_format\": \"unarchived\",\n",
    "    \"area\": [47.8, 9, 47.6, 9.3]\n",
    "}"
   ]
  },
  {
   "cell_type": "code",
   "execution_count": 4,
   "metadata": {},
   "outputs": [
    {
     "ename": "NameError",
     "evalue": "name 'client' is not defined",
     "output_type": "error",
     "traceback": [
      "\u001b[1;31m---------------------------------------------------------------------------\u001b[0m",
      "\u001b[1;31mNameError\u001b[0m                                 Traceback (most recent call last)",
      "Cell \u001b[1;32mIn[4], line 10\u001b[0m\n\u001b[0;32m      7\u001b[0m     client\u001b[38;5;241m.\u001b[39mretrieve(dataset, request, dataset_filepath)\n\u001b[0;32m      9\u001b[0m \u001b[38;5;28;01mif\u001b[39;00m \u001b[38;5;18m__name__\u001b[39m \u001b[38;5;241m==\u001b[39m \u001b[38;5;124m\"\u001b[39m\u001b[38;5;124m__main__\u001b[39m\u001b[38;5;124m\"\u001b[39m:\n\u001b[1;32m---> 10\u001b[0m     \u001b[43mmain\u001b[49m\u001b[43m(\u001b[49m\u001b[43m)\u001b[49m\n",
      "Cell \u001b[1;32mIn[4], line 7\u001b[0m, in \u001b[0;36mmain\u001b[1;34m()\u001b[0m\n\u001b[0;32m      4\u001b[0m dataset_filepath \u001b[38;5;241m=\u001b[39m os\u001b[38;5;241m.\u001b[39mpath\u001b[38;5;241m.\u001b[39mjoin(download_folder, dataset_filename)\n\u001b[0;32m      6\u001b[0m \u001b[38;5;66;03m# Download the dataset with the defined request parameters\u001b[39;00m\n\u001b[1;32m----> 7\u001b[0m \u001b[43mclient\u001b[49m\u001b[38;5;241m.\u001b[39mretrieve(dataset, request, dataset_filepath)\n",
      "\u001b[1;31mNameError\u001b[0m: name 'client' is not defined"
     ]
    }
   ],
   "source": [
    "def main():\n",
    "    # This request downloads year 1950 to 2024 data, monthly averaged at 00:00\n",
    "    dataset_filename = f\"{dataset}_test_data.nc\"\n",
    "    dataset_filepath = os.path.join(download_folder, dataset_filename)\n",
    "\n",
    "    # Download the dataset with the defined request parameters\n",
    "    client.retrieve(dataset, request, dataset_filepath)\n",
    "\n",
    "if __name__ == \"__main__\":\n",
    "    main()"
   ]
  },
  {
   "cell_type": "markdown",
   "metadata": {},
   "source": [
    "On the code is running, you can check the status of  API requests from **Your requests** at [CDS request](https://cds.climate.copernicus.eu/requests?tab=all)\n",
    "\n",
    "<img src=\"./images/era5_land_monthly/06_your_requests.png\" width=\"700\" style=\"display: block; margin: 0 auto; border: 1px solid #aeaeae\">"
   ]
  }
 ],
 "metadata": {
  "kernelspec": {
   "display_name": "venv",
   "language": "python",
   "name": "python3"
  },
  "language_info": {
   "codemirror_mode": {
    "name": "ipython",
    "version": 3
   },
   "file_extension": ".py",
   "mimetype": "text/x-python",
   "name": "python",
   "nbconvert_exporter": "python",
   "pygments_lexer": "ipython3",
   "version": "3.10.0"
  }
 },
 "nbformat": 4,
 "nbformat_minor": 2
}